{
  "metadata": {
    "kernelspec": {
      "language": "python",
      "display_name": "Python 3",
      "name": "python3"
    },
    "language_info": {
      "name": "python",
      "version": "3.11.11",
      "mimetype": "text/x-python",
      "codemirror_mode": {
        "name": "ipython",
        "version": 3
      },
      "pygments_lexer": "ipython3",
      "nbconvert_exporter": "python",
      "file_extension": ".py"
    },
    "kaggle": {
      "accelerator": "nvidiaTeslaT4",
      "dataSources": [
        {
          "sourceId": 11297242,
          "sourceType": "datasetVersion",
          "datasetId": 7064358
        },
        {
          "sourceId": 11362842,
          "sourceType": "datasetVersion",
          "datasetId": 7111958
        }
      ],
      "dockerImageVersionId": 31011,
      "isInternetEnabled": true,
      "language": "python",
      "sourceType": "notebook",
      "isGpuEnabled": true
    },
    "colab": {
      "provenance": []
    }
  },
  "nbformat_minor": 0,
  "nbformat": 4,
  "cells": [
    {
      "cell_type": "code",
      "source": [
        "\n",
        "\n",
        "import numpy as np\n",
        "import pandas as pd\n",
        "\n",
        "\n",
        "\n",
        "import os\n",
        "for dirname, _, filenames in os.walk('/kaggle/input'):\n",
        "    for filename in filenames:\n",
        "        print(os.path.join(dirname, filename))\n",
        "\n"
      ],
      "metadata": {
        "_uuid": "8f2839f25d086af736a60e9eeb907d3b93b6e0e5",
        "_cell_guid": "b1076dfc-b9ad-4769-8c92-a6c4dae69d19",
        "trusted": true,
        "execution": {
          "iopub.status.busy": "2025-04-11T05:47:00.592875Z",
          "iopub.execute_input": "2025-04-11T05:47:00.593449Z",
          "iopub.status.idle": "2025-04-11T05:47:00.603744Z",
          "shell.execute_reply.started": "2025-04-11T05:47:00.593424Z",
          "shell.execute_reply": "2025-04-11T05:47:00.603179Z"
        },
        "id": "vVStGZKYgVgZ",
        "outputId": "95cdbda4-3aeb-46c2-ea1b-1c63b531b053"
      },
      "outputs": [
        {
          "name": "stdout",
          "text": "/kaggle/input/nlp-ass3/shakespear_dev (1).txt\n/kaggle/input/nlp-ass3/shakespear_train (1).txt\n/kaggle/input/a3-nlp/shakespear_dev_split.txt\n/kaggle/input/a3-nlp/shakespear_train (1).txt\n/kaggle/input/a3-nlp/shakespear_test_split.txt\n",
          "output_type": "stream"
        }
      ],
      "execution_count": null
    },
    {
      "cell_type": "code",
      "source": [],
      "metadata": {
        "trusted": true,
        "id": "lju_UYfFgVgg"
      },
      "outputs": [],
      "execution_count": null
    },
    {
      "cell_type": "code",
      "source": [
        "\n",
        "import torch\n",
        "import torch.nn as nn\n",
        "import torch.nn.functional as F\n",
        "from torch.utils.data import Dataset, DataLoader\n",
        "from collections import Counter\n",
        "from tqdm import tqdm\n",
        "import numpy as np\n",
        "import matplotlib.pyplot as plt\n",
        "import random\n",
        "import math\n",
        "\n",
        "# Device and Hyperparameters\n",
        "DEVICE = torch.device(\"cuda\" if torch.cuda.is_available() else \"cpu\")\n",
        "MAX_LEN = 64\n",
        "EMBED_DIM = 128\n",
        "NUM_HEADS = 4\n",
        "FF_DIM = 512\n",
        "NUM_LAYERS = 4\n",
        "DROPOUT = 0.1\n",
        "BATCH_SIZE = 32\n",
        "EPOCHS = 10\n",
        "\n",
        "# Special Tokens\n",
        "SPECIAL_TOKENS = [\"<PAD>\", \"<START>\", \"<STOP>\"]\n",
        "\n",
        "# Utility Functions\n",
        "\n",
        "def flat(list_of_lists):\n",
        "    return [item for sublist in list_of_lists for item in sublist]\n",
        "\n",
        "def pad_to_length(tokens, max_len, tokenizer):\n",
        "    tokens = tokens[:max_len]\n",
        "    pad_len = max_len - len(tokens)\n",
        "    return tokens + [tokenizer[\"<PAD>\"]]*pad_len\n",
        "\n",
        "def tokenize(sentence, tokenizer, pad_to_len=None, include_stop=True):\n",
        "    tokens = sentence.strip().split()\n",
        "    if include_stop:\n",
        "        tokens.append(\"<STOP>\")\n",
        "    tokens = [\"<START>\"] + tokens\n",
        "    token_ids = [tokenizer.get(tok, tokenizer[\"<PAD>\"]) for tok in tokens]\n",
        "    if pad_to_len:\n",
        "        token_ids = pad_to_length(token_ids, pad_to_len, tokenizer)\n",
        "    return token_ids\n",
        "\n",
        "def decode(tokens, tokenizer_inv, end_at_stop=True, omit_pad=True):\n",
        "    out = []\n",
        "    for t in tokens:\n",
        "        word = tokenizer_inv.get(t, \"<UNK>\")\n",
        "        if omit_pad and word == \"<PAD>\":\n",
        "            continue\n",
        "        if end_at_stop and word == \"<STOP>\":\n",
        "            break\n",
        "        out.append(word)\n",
        "    return \" \".join(out)\n",
        "\n",
        "# Dataset Preparation\n",
        "class TextDataset(Dataset):\n",
        "    def __init__(self, data, tokenizer):\n",
        "        self.data = data\n",
        "        self.tokenizer = tokenizer\n",
        "\n",
        "    def __len__(self):\n",
        "        return len(self.data)\n",
        "\n",
        "    def __getitem__(self, idx):\n",
        "        tokens = tokenize(self.data[idx], self.tokenizer, pad_to_len=MAX_LEN)\n",
        "        x = torch.tensor(tokens[:-1], dtype=torch.long)\n",
        "        y = torch.tensor(tokens[1:], dtype=torch.long)\n",
        "        return x, y\n",
        "\n",
        "def load_and_preprocess_data():\n",
        "    with open(\"/kaggle/input/a3-nlp/shakespear_train (1).txt\", \"r\") as f:\n",
        "        lines_train = f.readlines()\n",
        "    with open(\"/kaggle/input/a3-nlp/shakespear_test_split.txt\", \"r\") as f:\n",
        "        lines_val = f.readlines()\n",
        "\n",
        "    tokens_train = [line.strip().split() for line in lines_train]\n",
        "    vocab = list(set(flat(tokens_train))) + SPECIAL_TOKENS\n",
        "    tokenizer = {w: i for i, w in enumerate(sorted(vocab))}\n",
        "    tokenizer_inv = {i: w for w, i in tokenizer.items()}\n",
        "\n",
        "    train_dataset = TextDataset(lines_train, tokenizer)\n",
        "    val_dataset = TextDataset(lines_val, tokenizer)\n",
        "\n",
        "    return train_dataset, val_dataset, tokenizer, tokenizer_inv\n",
        "\n",
        "# Model Components\n",
        "class MultiHeadAttention(nn.Module):\n",
        "    def __init__(self, embed_dim, num_heads):\n",
        "        super().__init__()\n",
        "        assert embed_dim % num_heads == 0\n",
        "        self.num_heads = num_heads\n",
        "        self.head_dim = embed_dim // num_heads\n",
        "\n",
        "        self.qkv_proj = nn.Linear(embed_dim, embed_dim * 3)\n",
        "        self.out_proj = nn.Linear(embed_dim, embed_dim)\n",
        "\n",
        "    def forward(self, x, mask=None):\n",
        "        B, T, C = x.size()\n",
        "        qkv = self.qkv_proj(x)\n",
        "        qkv = qkv.reshape(B, T, 3, self.num_heads, self.head_dim).permute(2, 0, 3, 1, 4)\n",
        "        q, k, v = qkv[0], qkv[1], qkv[2]\n",
        "\n",
        "        attn_scores = (q @ k.transpose(-2, -1)) / (self.head_dim ** 0.5)\n",
        "        if mask is not None:\n",
        "            attn_scores = attn_scores.masked_fill(mask == 0, float('-inf'))\n",
        "        attn_weights = F.softmax(attn_scores, dim=-1)\n",
        "        attn_output = (attn_weights @ v).transpose(1, 2).reshape(B, T, C)\n",
        "        return self.out_proj(attn_output)\n",
        "\n",
        "class TransformerBlock(nn.Module):\n",
        "    def __init__(self, embed_dim, num_heads, ff_dim, dropout):\n",
        "        super().__init__()\n",
        "        self.attn = MultiHeadAttention(embed_dim, num_heads)\n",
        "        self.ln1 = nn.LayerNorm(embed_dim)\n",
        "        self.ff = nn.Sequential(\n",
        "            nn.Linear(embed_dim, ff_dim),\n",
        "            nn.ReLU(),\n",
        "            nn.Linear(ff_dim, embed_dim)\n",
        "        )\n",
        "        self.ln2 = nn.LayerNorm(embed_dim)\n",
        "        self.dropout = nn.Dropout(dropout)\n",
        "\n",
        "    def forward(self, x, mask=None):\n",
        "        x = x + self.dropout(self.attn(self.ln1(x), mask))\n",
        "        x = x + self.dropout(self.ff(self.ln2(x)))\n",
        "        return x\n",
        "\n",
        "class TransformerLM(nn.Module):\n",
        "    def __init__(self, vocab_size):\n",
        "        super().__init__()\n",
        "        self.token_emb = nn.Embedding(vocab_size, EMBED_DIM)\n",
        "        self.pos_emb = nn.Embedding(MAX_LEN, EMBED_DIM)\n",
        "        self.blocks = nn.ModuleList([\n",
        "            TransformerBlock(EMBED_DIM, NUM_HEADS, FF_DIM, DROPOUT) for _ in range(NUM_LAYERS)\n",
        "        ])\n",
        "        self.ln = nn.LayerNorm(EMBED_DIM)\n",
        "        self.fc = nn.Linear(EMBED_DIM, vocab_size)\n",
        "\n",
        "    def forward(self, x):\n",
        "        B, T = x.size()\n",
        "        pos = torch.arange(0, T, device=x.device).unsqueeze(0)\n",
        "        x = self.token_emb(x) + self.pos_emb(pos)\n",
        "        mask = torch.tril(torch.ones(T, T, device=x.device)).unsqueeze(0).unsqueeze(0)\n",
        "        for block in self.blocks:\n",
        "            x = block(x, mask)\n",
        "        x = self.ln(x)\n",
        "        logits = self.fc(x)\n",
        "        return logits\n",
        "\n",
        "# Perplexity Evaluation\n",
        "@torch.no_grad()\n",
        "def evaluate_perplexity(model, data, tokenizer):\n",
        "    model.eval()\n",
        "    losses = []\n",
        "    for sentence in data:\n",
        "        tokens = torch.tensor(tokenize(sentence, tokenizer, pad_to_len=MAX_LEN), dtype=torch.long).to(DEVICE)\n",
        "        x, y = tokens[:-1].unsqueeze(0), tokens[1:].unsqueeze(0)\n",
        "        logits = model(x)\n",
        "        log_probs = F.log_softmax(logits, dim=-1)\n",
        "        y_log_probs = torch.gather(log_probs, 2, y[..., None])[..., 0]\n",
        "        #not_pad = y != tokenizer[\"<PAD>\"]\n",
        "        not_pad = y[0] != tokenizer[\"<PAD>\"]\n",
        "        loss = -y_log_probs[0][not_pad].mean().item()\n",
        "\n",
        "        losses.append(loss)\n",
        "    return math.exp(sum(losses)/len(losses))\n",
        "\n",
        "# Text Generation\n",
        "@torch.no_grad()\n",
        "def generate_text(model, tokenizer, tokenizer_inv, context=\"<START>\", gen_tokens=20, temperature=1.0):\n",
        "    model.eval()\n",
        "    tokens = tokenize(context, tokenizer, pad_to_len=None)\n",
        "    for _ in range(gen_tokens):\n",
        "        x = torch.tensor([pad_to_length(tokens, MAX_LEN, tokenizer)], dtype=torch.long).to(DEVICE)\n",
        "        logits = model(x)[0, len(tokens)-1]\n",
        "        probs = F.softmax(logits / temperature, dim=-1)\n",
        "        next_token = torch.multinomial(probs, 1).item()\n",
        "        tokens.append(next_token)\n",
        "        if tokenizer_inv[next_token] == \"<STOP>\":\n",
        "            break\n",
        "    return decode(tokens, tokenizer_inv)\n",
        "\n",
        "# Training Loop\n",
        "\n",
        "def train_model(model, train_loader, val_loader, tokenizer, tokenizer_inv):\n",
        "    optimizer = torch.optim.Adam(model.parameters(), lr=3e-4)\n",
        "    loss_fn = nn.CrossEntropyLoss(ignore_index=tokenizer[\"<PAD>\"])\n",
        "    train_losses, val_losses = [], []\n",
        "\n",
        "    for epoch in range(EPOCHS):\n",
        "        model.train()\n",
        "        total_loss = 0\n",
        "        for x, y in tqdm(train_loader):\n",
        "            x, y = x.to(DEVICE), y.to(DEVICE)\n",
        "            logits = model(x)\n",
        "            loss = loss_fn(logits.view(-1, logits.size(-1)), y.view(-1))\n",
        "            optimizer.zero_grad()\n",
        "            loss.backward()\n",
        "            optimizer.step()\n",
        "            total_loss += loss.item()\n",
        "        train_losses.append(total_loss / len(train_loader))\n",
        "\n",
        "        model.eval()\n",
        "        with torch.no_grad():\n",
        "            val_loss = 0\n",
        "            for x, y in val_loader:\n",
        "                x, y = x.to(DEVICE), y.to(DEVICE)\n",
        "                logits = model(x)\n",
        "                loss = loss_fn(logits.view(-1, logits.size(-1)), y.view(-1))\n",
        "                val_loss += loss.item()\n",
        "            val_losses.append(val_loss / len(val_loader))\n",
        "\n",
        "        print(f\"Epoch {epoch+1}/{EPOCHS} - Train Loss: {train_losses[-1]:.4f}, Val Loss: {val_losses[-1]:.4f}\")\n",
        "        print(\"Generated sample:\", generate_text(model, tokenizer, tokenizer_inv))\n",
        "\n",
        "    # Plot losses\n",
        "    plt.plot(train_losses, label=\"Train Loss\")\n",
        "    plt.plot(val_losses, label=\"Val Loss\")\n",
        "    plt.legend()\n",
        "    plt.title(\"Loss Curves\")\n",
        "    plt.xlabel(\"Epoch\")\n",
        "    plt.ylabel(\"Loss\")\n",
        "    plt.savefig(\"loss_plot.png\")\n",
        "    plt.show()\n",
        "\n",
        "    torch.save(model.state_dict(), \"transformer_lm.pt\")\n",
        "    return model\n",
        "\n",
        "# Inference Function\n",
        "@torch.no_grad()\n",
        "def inference(model_path, test_file, tokenizer, tokenizer_inv):\n",
        "    model = TransformerLM(vocab_size=len(tokenizer)).to(DEVICE)\n",
        "    model.load_state_dict(torch.load(model_path, map_location=DEVICE))\n",
        "    with open(test_file, \"r\") as f:\n",
        "        test_lines = f.readlines()\n",
        "    ppl = evaluate_perplexity(model, test_lines, tokenizer)\n",
        "    generated = [generate_text(model, tokenizer, tokenizer_inv, line.strip(), gen_tokens=20) for line in test_lines[:5]]\n",
        "    return generated, ppl\n",
        "\n",
        "# Run Everything\n",
        "if __name__ == \"__main__\":\n",
        "    train_dataset, val_dataset, tokenizer, tokenizer_inv = load_and_preprocess_data()\n",
        "    train_loader = DataLoader(train_dataset, batch_size=BATCH_SIZE, shuffle=True)\n",
        "    val_loader = DataLoader(val_dataset, batch_size=BATCH_SIZE)\n",
        "\n",
        "    model = TransformerLM(vocab_size=len(tokenizer)).to(DEVICE)\n",
        "    trained_model = train_model(model, train_loader, val_loader, tokenizer, tokenizer_inv)\n",
        "\n",
        "    # Final inference\n",
        "    generated_texts, test_ppl = inference(\"transformer_lm.pt\", \"/kaggle/input/a3-nlp/shakespear_test_split.txt\", tokenizer, tokenizer_inv)\n",
        "    print(\"\\n--- Generated Samples ---\")\n",
        "    for t in generated_texts:\n",
        "        print(t)\n",
        "    print(f\"\\nTest Perplexity: {test_ppl:.2f}\")\n"
      ],
      "metadata": {
        "trusted": true,
        "execution": {
          "iopub.status.busy": "2025-04-11T06:11:40.247670Z",
          "iopub.execute_input": "2025-04-11T06:11:40.248285Z",
          "iopub.status.idle": "2025-04-11T06:12:39.513965Z",
          "shell.execute_reply.started": "2025-04-11T06:11:40.248261Z",
          "shell.execute_reply": "2025-04-11T06:12:39.513172Z"
        },
        "id": "sG2aoUpcgVgh",
        "outputId": "a5bf89cf-93e7-4e5b-9764-ca7159e9c6d8"
      },
      "outputs": [
        {
          "name": "stderr",
          "text": "100%|██████████| 308/308 [00:05<00:00, 54.57it/s]\n",
          "output_type": "stream"
        },
        {
          "name": "stdout",
          "text": "Epoch 1/10 - Train Loss: 6.4599, Val Loss: 5.2890\nGenerated sample: <START> <START>\n",
          "output_type": "stream"
        },
        {
          "name": "stderr",
          "text": "100%|██████████| 308/308 [00:05<00:00, 54.77it/s]\n",
          "output_type": "stream"
        },
        {
          "name": "stdout",
          "text": "Epoch 2/10 - Train Loss: 5.5843, Val Loss: 5.0687\nGenerated sample: <START> <START>\n",
          "output_type": "stream"
        },
        {
          "name": "stderr",
          "text": "100%|██████████| 308/308 [00:05<00:00, 54.10it/s]\n",
          "output_type": "stream"
        },
        {
          "name": "stdout",
          "text": "Epoch 3/10 - Train Loss: 5.3210, Val Loss: 4.9551\nGenerated sample: <START> <START>\n",
          "output_type": "stream"
        },
        {
          "name": "stderr",
          "text": "100%|██████████| 308/308 [00:05<00:00, 53.58it/s]\n",
          "output_type": "stream"
        },
        {
          "name": "stdout",
          "text": "Epoch 4/10 - Train Loss: 5.1423, Val Loss: 4.9006\nGenerated sample: <START> <START>\n",
          "output_type": "stream"
        },
        {
          "name": "stderr",
          "text": "100%|██████████| 308/308 [00:05<00:00, 53.37it/s]\n",
          "output_type": "stream"
        },
        {
          "name": "stdout",
          "text": "Epoch 5/10 - Train Loss: 4.9961, Val Loss: 4.7941\nGenerated sample: <START> <START>\n",
          "output_type": "stream"
        },
        {
          "name": "stderr",
          "text": "100%|██████████| 308/308 [00:05<00:00, 52.60it/s]\n",
          "output_type": "stream"
        },
        {
          "name": "stdout",
          "text": "Epoch 6/10 - Train Loss: 4.8624, Val Loss: 4.8457\nGenerated sample: <START> <START>\n",
          "output_type": "stream"
        },
        {
          "name": "stderr",
          "text": "100%|██████████| 308/308 [00:05<00:00, 53.16it/s]\n",
          "output_type": "stream"
        },
        {
          "name": "stdout",
          "text": "Epoch 7/10 - Train Loss: 4.7431, Val Loss: 4.8119\nGenerated sample: <START> <START>\n",
          "output_type": "stream"
        },
        {
          "name": "stderr",
          "text": "100%|██████████| 308/308 [00:05<00:00, 53.71it/s]\n",
          "output_type": "stream"
        },
        {
          "name": "stdout",
          "text": "Epoch 8/10 - Train Loss: 4.6214, Val Loss: 4.8221\nGenerated sample: <START> <START>\n",
          "output_type": "stream"
        },
        {
          "name": "stderr",
          "text": "100%|██████████| 308/308 [00:05<00:00, 53.91it/s]\n",
          "output_type": "stream"
        },
        {
          "name": "stdout",
          "text": "Epoch 9/10 - Train Loss: 4.5075, Val Loss: 4.7912\nGenerated sample: <START> <START>\n",
          "output_type": "stream"
        },
        {
          "name": "stderr",
          "text": "100%|██████████| 308/308 [00:05<00:00, 54.35it/s]\n",
          "output_type": "stream"
        },
        {
          "name": "stdout",
          "text": "Epoch 10/10 - Train Loss: 4.3922, Val Loss: 4.8186\nGenerated sample: <START> <START>\n",
          "output_type": "stream"
        },
        {
          "output_type": "display_data",
          "data": {
            "text/plain": "<Figure size 640x480 with 1 Axes>",
            "image/png": "[encoded data removed]"
          },
          "metadata": {}
        },
        {
          "name": "stderr",
          "text": "/tmp/ipykernel_31/2694880655.py:236: FutureWarning: You are using `torch.load` with `weights_only=False` (the current default value), which uses the default pickle module implicitly. It is possible to construct malicious pickle data which will execute arbitrary code during unpickling (See https://github.com/pytorch/pytorch/blob/main/SECURITY.md#untrusted-models for more details). In a future release, the default value for `weights_only` will be flipped to `True`. This limits the functions that could be executed during unpickling. Arbitrary objects will no longer be allowed to be loaded via this mode unless they are explicitly allowlisted by the user via `torch.serialization.add_safe_globals`. We recommend you start setting `weights_only=True` for any use case where you don't have full control of the loaded file. Please open an issue on GitHub for any issues related to this experimental feature.\n  model.load_state_dict(torch.load(model_path, map_location=DEVICE))\n",
          "output_type": "stream"
        },
        {
          "name": "stdout",
          "text": "\n--- Generated Samples ---\n<START> Master , master , look about you : who goes there , ha ?\n<START> : Peace , !\n<START> it is the of my love .\n<START> , stand by a while .\n<START> : A proper stripling and an amorous !\n\nTest Perplexity: 93.95\n",
          "output_type": "stream"
        }
      ],
      "execution_count": null
    },
    {
      "cell_type": "code",
      "source": [],
      "metadata": {
        "trusted": true,
        "id": "AKHcrB_KgVgi"
      },
      "outputs": [],
      "execution_count": null
    }
  ]
}